{
 "cells": [
  {
   "cell_type": "code",
   "execution_count": 2,
   "id": "818d587a",
   "metadata": {},
   "outputs": [],
   "source": [
    "# Import required libraries\n",
    "import pandas as pd\n",
    "import numpy as np\n",
    "\n",
    "from time import sleep\n",
    "from datetime import datetime\n",
    "import urllib.request\n",
    "from urllib.request import urlopen\n",
    "import requests\n",
    "\n",
    "# Import selenium, website is javascript, we can't use beauitfulsoup\n",
    "from selenium import webdriver\n",
    "from selenium.webdriver.common.desired_capabilities import DesiredCapabilities\n",
    "from selenium.webdriver.support.ui import WebDriverWait\n",
    "from selenium.webdriver.support import expected_conditions as EC\n",
    "from selenium.webdriver.common.by import By\n"
   ]
  },
  {
   "cell_type": "code",
   "execution_count": 3,
   "id": "d11fb362",
   "metadata": {},
   "outputs": [],
   "source": [
    "# to ignore the red warnings in the code\n",
    "import warnings\n",
    "warnings.filterwarnings('ignore')"
   ]
  },
  {
   "cell_type": "code",
   "execution_count": 4,
   "id": "ee809066",
   "metadata": {},
   "outputs": [],
   "source": [
    "# Make sure to download the chromdriver with same version as your google chrome\n",
    "# Find the chrome driver path in C, you can add it any place, make sure to to reachable\n",
    "PATH ='C:\\Program Files (x86)\\chromedriver.exe'"
   ]
  },
  {
   "cell_type": "code",
   "execution_count": 5,
   "id": "44b8e74f",
   "metadata": {},
   "outputs": [],
   "source": [
    "# In this Script we will scrap data out of TCGplayer, it's a javascript website, so we can't use beautiful soup"
   ]
  },
  {
   "cell_type": "code",
   "execution_count": 6,
   "id": "248403ca",
   "metadata": {},
   "outputs": [],
   "source": [
    "# We set a list with stores we want to scrap, and number of pages for each one \n",
    "lists= [\n",
    "'https://www.tcgplayer.com/search/yugioh/product?productLineName=yugioh&seller=a2449e6e&view=list&CardType=Main+Deck+Monster&page=',\n",
    "'https://www.tcgplayer.com/search/yugioh/product?productLineName=yugioh&seller=a2449e6e&view=list&CardType=Spell&page=',\n",
    "'https://www.tcgplayer.com/search/yugioh/product?productLineName=yugioh&seller=a2449e6e&view=list&CardType=Trap&page=',\n",
    "'https://www.tcgplayer.com/search/yugioh/product?productLineName=yugioh&seller=a2449e6e&view=list&CardType=Extra+Deck+Monster&page=',\n",
    "'https://www.tcgplayer.com/search/yugioh/product?productLineName=yugioh&seller=fe1faf49&view=list&page=',\n",
    "]\n",
    "\n",
    "\n",
    "page_numbers = [\n",
    "117,\n",
    "44,\n",
    "43,\n",
    "22,\n",
    "154    \n",
    "]"
   ]
  },
  {
   "cell_type": "code",
   "execution_count": 13,
   "id": "245b8d85",
   "metadata": {},
   "outputs": [],
   "source": [
    "#  Set the wait time for the driver\n",
    "capa = DesiredCapabilities.CHROME\n",
    "capa[\"pageLoadStrategy\"] = \"none\"\n",
    "driver = webdriver.Chrome(PATH,desired_capabilities=capa)\n",
    "wait = WebDriverWait(driver, 30)"
   ]
  },
  {
   "cell_type": "code",
   "execution_count": 7,
   "id": "424c6dc6",
   "metadata": {},
   "outputs": [],
   "source": [
    "# Create Empty DataFrame with the needed columns\n",
    "dtypes = np.dtype(\n",
    "    [\n",
    "        (\"Card_Name\", str),\n",
    "        (\"Card_Price\", float),\n",
    "        (\"Market_Price\", float),\n",
    "        (\"Shipping\", float),\n",
    "        (\"Qty\", int),\n",
    "        (\"Rarity\", str),\n",
    "        (\"Pack\", str),\n",
    "        (\"Condition\", str)\n",
    "    ])\n",
    "\n",
    "df = pd.DataFrame(np.empty(0, dtype=dtypes))"
   ]
  },
  {
   "cell_type": "code",
   "execution_count": 8,
   "id": "d5f75c7c",
   "metadata": {},
   "outputs": [
    {
     "data": {
      "text/html": [
       "<div>\n",
       "<style scoped>\n",
       "    .dataframe tbody tr th:only-of-type {\n",
       "        vertical-align: middle;\n",
       "    }\n",
       "\n",
       "    .dataframe tbody tr th {\n",
       "        vertical-align: top;\n",
       "    }\n",
       "\n",
       "    .dataframe thead th {\n",
       "        text-align: right;\n",
       "    }\n",
       "</style>\n",
       "<table border=\"1\" class=\"dataframe\">\n",
       "  <thead>\n",
       "    <tr style=\"text-align: right;\">\n",
       "      <th></th>\n",
       "      <th>Card_Name</th>\n",
       "      <th>Card_Price</th>\n",
       "      <th>Market_Price</th>\n",
       "      <th>Shipping</th>\n",
       "      <th>Qty</th>\n",
       "      <th>Rarity</th>\n",
       "      <th>Pack</th>\n",
       "      <th>Condition</th>\n",
       "    </tr>\n",
       "  </thead>\n",
       "  <tbody>\n",
       "  </tbody>\n",
       "</table>\n",
       "</div>"
      ],
      "text/plain": [
       "Empty DataFrame\n",
       "Columns: [Card_Name, Card_Price, Market_Price, Shipping, Qty, Rarity, Pack, Condition]\n",
       "Index: []"
      ]
     },
     "execution_count": 8,
     "metadata": {},
     "output_type": "execute_result"
    }
   ],
   "source": [
    "# Check the empty data frame to make sure the columns are right\n",
    "df"
   ]
  },
  {
   "cell_type": "code",
   "execution_count": 8,
   "id": "77aaa7cf",
   "metadata": {},
   "outputs": [],
   "source": [
    "# Def function to collect data from each page\n",
    "def get_page_data():\n",
    "# global df to use the same df we created before\n",
    "    global df\n",
    "    try:\n",
    "        names = driver.find_elements_by_class_name('search-result')\n",
    "        for name in names:\n",
    "            cards_dict= {}\n",
    "            card_name = name.find_element_by_class_name('search-result__title').text\n",
    "            card_market_price = name.find_element_by_class_name('search-result__market-price--value').text[1:]\n",
    "            card_rarity = name.find_element_by_class_name('search-result__rarity').text[:]\n",
    "            card_subtitle = name.find_element_by_class_name('search-result__subtitle').text[:]\n",
    "\n",
    "            listings = name.find_elements_by_class_name('listing-item')\n",
    "            for listing in listings :\n",
    "                card_price = listing.find_element_by_class_name('listing-item__price').text[1:]\n",
    "                card_shipping_price = listing.find_element_by_class_name('shipping-messages__price').text\n",
    "                card_shipping_price = card_shipping_price[3:len(card_shipping_price)-9]\n",
    "                card_qty_available = listing.find_element_by_class_name('add-to-cart__available').text[3:]\n",
    "                card_condition = listing.find_element_by_class_name('listing-item__condition').text\n",
    "\n",
    "                cards_dict['Card_Name'] = card_name\n",
    "                cards_dict['Card_Price'] = card_price\n",
    "                cards_dict['Market_Price'] = card_market_price\n",
    "                cards_dict['Shipping'] = card_shipping_price\n",
    "                cards_dict['Qty'] = card_qty_available\n",
    "                cards_dict['Rarity'] = card_rarity\n",
    "                cards_dict['Pack'] = card_subtitle\n",
    "                cards_dict['Condition'] = card_condition\n",
    "    #            print (cards_dict)\n",
    "\n",
    "                df = df.append(cards_dict, ignore_index= True)\n",
    "                print(df.shape)\n",
    "    \n",
    "    except:\n",
    "        pass"
   ]
  },
  {
   "cell_type": "code",
   "execution_count": 15,
   "id": "20eedb62",
   "metadata": {},
   "outputs": [],
   "source": [
    "# Create function to loop over all pages \n",
    "def get_data_from_seller(url_page, page_nums):  \n",
    "    for i in range(1, (page_nums)):\n",
    "        print (i)\n",
    "        driver.get(url_page + str(i))\n",
    "        wait.until(EC.presence_of_element_located((By.CLASS_NAME, 'shipping-messages__price')))\n",
    "        wait.until(EC.presence_of_element_located((By.CLASS_NAME, 'search-result__subtitle')))\n",
    "\n",
    "        sleep(1)\n",
    "        driver.execute_script(\"window.stop();\")\n",
    "        get_page_data()"
   ]
  },
  {
   "cell_type": "code",
   "execution_count": 36,
   "id": "c87b2e91",
   "metadata": {},
   "outputs": [],
   "source": [
    "# loop over all sellers and all pages for each store\n",
    "# Save each data frame to CSV, then Clean the Dataframe\n",
    "for i in range(1,len(lists)):\n",
    "    print (i, 'loop, staring to gather')\n",
    "    get_data_from_seller(lists[i], page_numbers[i])\n",
    "    name = store[i] + '.csv'\n",
    "    df.to_csv(name ,sep=',',index=False)\n",
    "    df = pd.DataFrame(np.empty(0, dtype=dtypes))"
   ]
  },
  {
   "cell_type": "code",
   "execution_count": null,
   "id": "8f7a4063",
   "metadata": {},
   "outputs": [],
   "source": []
  },
  {
   "cell_type": "code",
   "execution_count": null,
   "id": "8ddb2c88",
   "metadata": {},
   "outputs": [],
   "source": []
  },
  {
   "cell_type": "code",
   "execution_count": null,
   "id": "a458d7a0",
   "metadata": {},
   "outputs": [],
   "source": []
  }
 ],
 "metadata": {
  "kernelspec": {
   "display_name": "Python 3 (ipykernel)",
   "language": "python",
   "name": "python3"
  },
  "language_info": {
   "codemirror_mode": {
    "name": "ipython",
    "version": 3
   },
   "file_extension": ".py",
   "mimetype": "text/x-python",
   "name": "python",
   "nbconvert_exporter": "python",
   "pygments_lexer": "ipython3",
   "version": "3.9.12"
  }
 },
 "nbformat": 4,
 "nbformat_minor": 5
}
